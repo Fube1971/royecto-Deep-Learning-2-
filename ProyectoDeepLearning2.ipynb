{
  "nbformat": 4,
  "nbformat_minor": 0,
  "metadata": {
    "colab": {
      "provenance": [],
      "gpuType": "T4"
    },
    "kernelspec": {
      "name": "python3",
      "display_name": "Python 3"
    },
    "language_info": {
      "name": "python"
    },
    "accelerator": "GPU"
  },
  "cells": [
    {
      "cell_type": "markdown",
      "source": [
        "# Proyecto de Deep Learning - Clasificación de Imágenes con Transfer Learning\n",
        "## Universidad Militar Nueva Granada - 2024\n",
        "\n",
        "###Nombres: Daren Santiago Herrera - Daniela Fuentes Bello - Jose Luis Pineda\n",
        "\n",
        "Este proyecto implementa un modelo de clasificación de imágenes utilizando tres arquitecturas preentrenadas: VGG16, ResNet50 e InceptionV3.\n",
        "Fases:\n",
        "1. Carga y distribución del dataset\n",
        "2. Entrenamiento usando Transfer Learning\n",
        "3. Fine-tuning\n",
        "4. Evaluación del modelo\n",
        "\n"
      ],
      "metadata": {
        "id": "5rAkXnrZO_CN"
      }
    },
    {
      "cell_type": "code",
      "execution_count": 12,
      "metadata": {
        "colab": {
          "base_uri": "https://localhost:8080/"
        },
        "id": "LOCP1Hv96tBg",
        "outputId": "5013bb97-1c53-4808-a55e-4d910791ad6b",
        "collapsed": true
      },
      "outputs": [
        {
          "output_type": "stream",
          "name": "stdout",
          "text": [
            "Requirement already satisfied: torch in /usr/local/lib/python3.10/dist-packages (2.4.1+cu121)\n",
            "Requirement already satisfied: torchvision in /usr/local/lib/python3.10/dist-packages (0.19.1+cu121)\n",
            "Requirement already satisfied: matplotlib in /usr/local/lib/python3.10/dist-packages (3.7.1)\n",
            "Requirement already satisfied: filelock in /usr/local/lib/python3.10/dist-packages (from torch) (3.16.1)\n",
            "Requirement already satisfied: typing-extensions>=4.8.0 in /usr/local/lib/python3.10/dist-packages (from torch) (4.12.2)\n",
            "Requirement already satisfied: sympy in /usr/local/lib/python3.10/dist-packages (from torch) (1.13.3)\n",
            "Requirement already satisfied: networkx in /usr/local/lib/python3.10/dist-packages (from torch) (3.4)\n",
            "Requirement already satisfied: jinja2 in /usr/local/lib/python3.10/dist-packages (from torch) (3.1.4)\n",
            "Requirement already satisfied: fsspec in /usr/local/lib/python3.10/dist-packages (from torch) (2024.6.1)\n",
            "Requirement already satisfied: numpy in /usr/local/lib/python3.10/dist-packages (from torchvision) (1.26.4)\n",
            "Requirement already satisfied: pillow!=8.3.*,>=5.3.0 in /usr/local/lib/python3.10/dist-packages (from torchvision) (10.4.0)\n",
            "Requirement already satisfied: contourpy>=1.0.1 in /usr/local/lib/python3.10/dist-packages (from matplotlib) (1.3.0)\n",
            "Requirement already satisfied: cycler>=0.10 in /usr/local/lib/python3.10/dist-packages (from matplotlib) (0.12.1)\n",
            "Requirement already satisfied: fonttools>=4.22.0 in /usr/local/lib/python3.10/dist-packages (from matplotlib) (4.54.1)\n",
            "Requirement already satisfied: kiwisolver>=1.0.1 in /usr/local/lib/python3.10/dist-packages (from matplotlib) (1.4.7)\n",
            "Requirement already satisfied: packaging>=20.0 in /usr/local/lib/python3.10/dist-packages (from matplotlib) (24.1)\n",
            "Requirement already satisfied: pyparsing>=2.3.1 in /usr/local/lib/python3.10/dist-packages (from matplotlib) (3.1.4)\n",
            "Requirement already satisfied: python-dateutil>=2.7 in /usr/local/lib/python3.10/dist-packages (from matplotlib) (2.8.2)\n",
            "Requirement already satisfied: six>=1.5 in /usr/local/lib/python3.10/dist-packages (from python-dateutil>=2.7->matplotlib) (1.16.0)\n",
            "Requirement already satisfied: MarkupSafe>=2.0 in /usr/local/lib/python3.10/dist-packages (from jinja2->torch) (3.0.1)\n",
            "Requirement already satisfied: mpmath<1.4,>=1.1.0 in /usr/local/lib/python3.10/dist-packages (from sympy->torch) (1.3.0)\n"
          ]
        }
      ],
      "source": [
        "!pip install torch torchvision matplotlib\n"
      ]
    },
    {
      "cell_type": "markdown",
      "source": [
        "# Importación de Librerias"
      ],
      "metadata": {
        "id": "d9r9CFV2Ev01"
      }
    },
    {
      "cell_type": "code",
      "source": [
        "import zipfile\n",
        "import torch\n",
        "import torch.nn as nn\n",
        "import torch.optim as optim\n",
        "from torch.optim import lr_scheduler\n",
        "from torchvision import datasets, models, transforms\n",
        "from torch.utils.data import random_split, DataLoader\n",
        "import numpy as np\n",
        "import matplotlib.pyplot as plt\n",
        "import time\n",
        "import os\n",
        "import copy\n",
        "from sklearn.metrics import confusion_matrix, classification_report, accuracy_score, f1_score, precision_score, recall_score\n",
        "import seaborn as sns\n",
        "from google.colab import drive\n"
      ],
      "metadata": {
        "id": "r-vFoR9DxyBS"
      },
      "execution_count": 13,
      "outputs": []
    },
    {
      "cell_type": "markdown",
      "source": [
        "## Preparación del DataSet y Aumento de Datos"
      ],
      "metadata": {
        "id": "iQVsnRV0EYxd"
      }
    },
    {
      "cell_type": "code",
      "source": [
        "\n",
        "drive.mount('/content/drive')\n",
        "\n",
        "# Ahora puedes acceder al archivo desde tu Drive y descomprimirlo\n",
        "zip_path = '/content/drive/MyDrive/DataSet.zip'\n",
        "extract_path = '/content/DataSet/'\n",
        "\n",
        "with zipfile.ZipFile(zip_path, 'r') as zip_ref:\n",
        "    zip_ref.extractall(extract_path)\n"
      ],
      "metadata": {
        "colab": {
          "base_uri": "https://localhost:8080/"
        },
        "id": "JisJKgcqHrL1",
        "outputId": "ee6e0585-2b66-41c6-a456-95e26fc7f869"
      },
      "execution_count": 14,
      "outputs": [
        {
          "output_type": "stream",
          "name": "stdout",
          "text": [
            "Drive already mounted at /content/drive; to attempt to forcibly remount, call drive.mount(\"/content/drive\", force_remount=True).\n"
          ]
        }
      ]
    },
    {
      "cell_type": "markdown",
      "source": [
        "\n",
        "\n",
        "*   Carga del dataset y preprocesamiento\n",
        "*   Usamos torchvision para cargar los datos de entrenamiento y validación\n",
        "*   Se dividen 70% para entrenamiento y 30% para validación\n",
        "\n",
        "\n",
        "\n",
        "\n"
      ],
      "metadata": {
        "id": "7A8HUIpyPXG1"
      }
    },
    {
      "cell_type": "markdown",
      "source": [
        "**ResNet50 y VGG16**: Estos modelos esperan imágenes de entrada de tamaño 224x224 píxeles. Por lo tanto, las imágenes de tu conjunto de datos se deben transformar o redimensionar a este tamaño antes de pasarlas a la red.\n"
      ],
      "metadata": {
        "id": "JbLzL7y0PzqS"
      }
    },
    {
      "cell_type": "code",
      "source": [
        "# Define transformaciones y carga del dataset\n",
        "data_transforms = transforms.Compose([\n",
        "    transforms.Resize((224, 224)),  # Para VGG16 y ResNet50\n",
        "    transforms.ToTensor()\n",
        "])\n",
        "\n",
        "full_dataset = datasets.ImageFolder(extract_path, transform=data_transforms)\n",
        "\n",
        "# Definir el tamaño de cada subconjunto (70% entrenamiento, 30% validación)\n",
        "train_size = int(0.7 * len(full_dataset))\n",
        "val_size = len(full_dataset) - train_size\n",
        "train_dataset, val_dataset = random_split(full_dataset, [train_size, val_size])\n",
        "\n",
        "# Crear DataLoaders\n",
        "train_loader = DataLoader(train_dataset, batch_size=32, shuffle=True)\n",
        "val_loader = DataLoader(val_dataset, batch_size=32, shuffle=False)\n",
        "\n",
        "dataloaders = {\n",
        "    'train': train_loader,\n",
        "    'val': val_loader\n",
        "}\n",
        "\n",
        "# Verificar las clases y etiquetas\n",
        "class_names = full_dataset.classes\n",
        "print(\"Clases encontradas:\", class_names)\n",
        "\n",
        "# Número de clases\n",
        "num_classes = 5  # Cambia esto al número de clases en tu dataset\n",
        "\n",
        "# Ajustar los modelos\n",
        "model_vgg16 = models.vgg16(pretrained=True)\n",
        "model_vgg16.classifier[6] = nn.Linear(in_features=4096, out_features=num_classes)\n",
        "\n",
        "model_resnet50 = models.resnet50(pretrained=True)\n",
        "model_resnet50.fc = nn.Linear(in_features=model_resnet50.fc.in_features, out_features=num_classes)\n",
        "\n",
        "model_inception = models.inception_v3(weights='DEFAULT', aux_logits=True)  # Cambiado a True\n",
        "model_inception.fc = nn.Linear(in_features=model_inception.fc.in_features, out_features=num_classes)\n",
        "\n",
        "# Verificar el tipo de las etiquetas\n",
        "for inputs, labels in dataloaders['train']:\n",
        "    print(labels.dtype)  # Debe ser torch.int64 o torch.long\n",
        "    break  # Rompe el bucle después de la primera iteración\n"
      ],
      "metadata": {
        "id": "y8tRIzIAx2Jy",
        "colab": {
          "base_uri": "https://localhost:8080/"
        },
        "outputId": "245f90fa-024c-4c35-96e1-f75d8cd9ab44"
      },
      "execution_count": 17,
      "outputs": [
        {
          "output_type": "stream",
          "name": "stdout",
          "text": [
            "Clases encontradas: ['Apple', 'Banana', 'Grape', 'Mango', 'Strawberry']\n",
            "torch.int64\n"
          ]
        }
      ]
    },
    {
      "cell_type": "markdown",
      "source": [
        "**InceptionV3:** Este modelo fue diseñado para manejar imágenes de entrada de 299x299 píxeles. Esto significa que cualquier imagen que se quiera clasificar usando InceptionV3 debe ser redimensionada a 299x299 en lugar de 224x224."
      ],
      "metadata": {
        "id": "6Jn6qcD7UEd2"
      }
    },
    {
      "cell_type": "code",
      "source": [
        "# InceptionV3 requiere imágenes de tamaño 299x299\n",
        "data_transforms_inception = transforms.Compose([\n",
        "    transforms.Resize((299, 299)),  # Tamaño de entrada esperado para InceptionV3\n",
        "    transforms.ToTensor()\n",
        "])\n",
        "\n",
        "# Cargar el dataset completo para InceptionV3\n",
        "full_dataset_inception = datasets.ImageFolder(extract_path, transform=data_transforms_inception)\n",
        "\n",
        "# Dividir el dataset completo en entrenamiento y validación (70% - 30%)\n",
        "train_size_inception = int(0.7 * len(full_dataset_inception))\n",
        "val_size_inception = len(full_dataset_inception) - train_size_inception\n",
        "\n",
        "# Dividir el dataset completo en entrenamiento y validación\n",
        "train_dataset_inception, val_dataset_inception = random_split(full_dataset_inception, [train_size_inception, val_size_inception])\n",
        "\n",
        "# Crear DataLoaders para InceptionV3\n",
        "train_loader_inception = DataLoader(train_dataset_inception, batch_size=32, shuffle=True)\n",
        "val_loader_inception = DataLoader(val_dataset_inception, batch_size=32, shuffle=False)\n",
        "\n",
        "# Definir los dataloaders y dataset_sizes para InceptionV3\n",
        "dataloaders_inception = {\n",
        "    'train': train_loader_inception,\n",
        "    'val': val_loader_inception\n",
        "}\n",
        "\n",
        "dataset_sizes_inception = {\n",
        "    'train': len(train_dataset_inception),\n",
        "    'val': len(val_dataset_inception)\n",
        "}\n"
      ],
      "metadata": {
        "id": "9VCkS-3ETkIn"
      },
      "execution_count": 18,
      "outputs": []
    },
    {
      "cell_type": "markdown",
      "source": [
        "\n",
        "## Cargamos modelos preentrenados (VGG16, ResNet50, InceptionV3)\n",
        "\n",
        "# Definición del Modelo VGG16\n",
        "\n",
        "**En cada modelo entrenado, usamos Transfer Learning, donde congelamos las capas convolucionales y entrenamos solo las capas finales**"
      ],
      "metadata": {
        "id": "yIj4bPebE6ae"
      }
    },
    {
      "cell_type": "code",
      "source": [
        "# Definir el dispositivo (GPU si está disponible, de lo contrario CPU)\n",
        "device = torch.device(\"cuda:0\" if torch.cuda.is_available() else \"cpu\")\n",
        "print(f\"Usando dispositivo: {device}\")"
      ],
      "metadata": {
        "colab": {
          "base_uri": "https://localhost:8080/"
        },
        "id": "T8yD86lkU54l",
        "outputId": "221fe706-4833-4ef5-c46b-897c141b79e0"
      },
      "execution_count": 19,
      "outputs": [
        {
          "output_type": "stream",
          "name": "stdout",
          "text": [
            "Usando dispositivo: cuda:0\n"
          ]
        }
      ]
    },
    {
      "cell_type": "code",
      "source": [
        "model_vgg16 = models.vgg16(weights='VGG16_Weights.DEFAULT')  # Cargar el modelo VGG16 preentrenado\n",
        "for param in model_vgg16.features.parameters():\n",
        "    param.requires_grad = False  # Congelar capas convolucionales\n",
        "\n",
        "num_ftrs = model_vgg16.classifier[6].in_features\n",
        "model_vgg16.classifier[6] = nn.Linear(num_ftrs, 5)  # Cambiar la capa fully connected para 5 clases\n",
        "model_vgg16 = model_vgg16.to(device)\n",
        "\n",
        "criterion = nn.CrossEntropyLoss()\n",
        "optimizer_vgg16 = optim.Adam(model_vgg16.classifier[6].parameters(), lr=0.001)\n",
        "exp_lr_scheduler_vgg16 = lr_scheduler.StepLR(optimizer_vgg16, step_size=7, gamma=0.1)\n"
      ],
      "metadata": {
        "id": "jAGL8IVDKZdU"
      },
      "execution_count": 20,
      "outputs": []
    },
    {
      "cell_type": "markdown",
      "source": [
        "# Definición del Modelo ResNet50"
      ],
      "metadata": {
        "id": "7FNHmKZJFO86"
      }
    },
    {
      "cell_type": "code",
      "source": [
        "model_resnet50 = models.resnet50(weights='ResNet50_Weights.DEFAULT')  # Cargar el modelo ResNet50 preentrenado\n",
        "for param in model_resnet50.parameters():\n",
        "    param.requires_grad = False  # Congelar todas las capas\n",
        "\n",
        "num_ftrs_resnet = model_resnet50.fc.in_features\n",
        "model_resnet50.fc = nn.Linear(num_ftrs_resnet, 5)  # Modificar la última capa para 5 clases\n",
        "model_resnet50 = model_resnet50.to(device)\n",
        "\n",
        "optimizer_resnet50 = optim.Adam(model_resnet50.fc.parameters(), lr=0.001)\n",
        "exp_lr_scheduler_resnet50 = lr_scheduler.StepLR(optimizer_resnet50, step_size=7, gamma=0.1)\n"
      ],
      "metadata": {
        "id": "zXnFcEiUx9oJ"
      },
      "execution_count": 21,
      "outputs": []
    },
    {
      "cell_type": "markdown",
      "source": [
        "# Definición del Modelo InceptionV3"
      ],
      "metadata": {
        "id": "Wn8W99lQFe1t"
      }
    },
    {
      "cell_type": "code",
      "source": [
        "model_inception = models.inception_v3(weights='Inception_V3_Weights.DEFAULT')  # Cargar InceptionV3 preentrenado\n",
        "for param in model_inception.parameters():\n",
        "    param.requires_grad = False  # Congelar todas las capas\n",
        "\n",
        "num_ftrs_inception = model_inception.fc.in_features\n",
        "model_inception.fc = nn.Linear(num_ftrs_inception, 5)  # Cambiar la capa fully connected para 5 clases\n",
        "model_inception = model_inception.to(device)\n",
        "\n",
        "optimizer_inception = optim.Adam(model_inception.fc.parameters(), lr=0.001)\n",
        "exp_lr_scheduler_inception = lr_scheduler.StepLR(optimizer_inception, step_size=7, gamma=0.1)\n"
      ],
      "metadata": {
        "id": "4Cuf5QxqyFZx"
      },
      "execution_count": 22,
      "outputs": []
    },
    {
      "cell_type": "markdown",
      "source": [
        "## Funcion de Entrenamiento\n",
        "\n",
        "\n",
        "\n",
        "*   **Definimos el optimizador Adam con una tasa de aprendizaje de 0.001**, Esto es adecuado para el fine-tuning ya que queremos que el modelo aprenda sin cambios bruscos\n",
        "*   **Congelamos todas las capas excepto las fully connected**,Esto permite que el modelo conserve las características aprendidas en otras tareas y se adapte a nuestro problema específico.\n",
        "\n"
      ],
      "metadata": {
        "id": "hVCgHPTbFzAi"
      }
    },
    {
      "cell_type": "markdown",
      "source": [
        "*      model: El modelo que se entrena.\n",
        "*      criterion: La función de pérdida.\n",
        "* optimizer: El algoritmo que actualiza los pesos del modelo.\n",
        "*scheduler: Controla la tasa de aprendizaje.\n",
        "*num_epochs: El número de épocas para entrenar el modelo.\n",
        "*dataloaders: Los datos de entrenamiento y validación.\n",
        "*dataset_sizes: Tamaños del dataset de entrenamiento y validación."
      ],
      "metadata": {
        "id": "KMayNbjYSapm"
      }
    },
    {
      "cell_type": "code",
      "source": [
        "def train_model(model, criterion, optimizer, scheduler, num_epochs=10, dataloaders=None, dataset_sizes=None):\n",
        "    since = time.time()\n",
        "    best_model_wts = copy.deepcopy(model.state_dict())\n",
        "    best_acc = 0.0\n",
        "\n",
        "    for epoch in range(num_epochs):\n",
        "        print(f'Epoch {epoch}/{num_epochs - 1}')\n",
        "        print('-' * 10)\n",
        "\n",
        "        for phase in ['train', 'val']:\n",
        "            if phase == 'train':\n",
        "                model.train()  # Modo de entrenamiento\n",
        "            else:\n",
        "                model.eval()   # Modo de validación\n",
        "\n",
        "            running_loss = 0.0\n",
        "            running_corrects = 0\n",
        "\n",
        "            for inputs, labels in dataloaders[phase]:\n",
        "                inputs = inputs.to(device)\n",
        "                labels = labels.to(device)\n",
        "\n",
        "                optimizer.zero_grad()\n",
        "\n",
        "                with torch.set_grad_enabled(phase == 'train'):\n",
        "                    # Para InceptionV3, manejar la salida auxiliar solo en entrenamiento\n",
        "                    if isinstance(model, models.Inception3) and phase == 'train':\n",
        "                        # En entrenamiento, InceptionV3 devuelve dos salidas\n",
        "                        outputs, aux_outputs = model(inputs)\n",
        "                        loss1 = criterion(outputs, labels)\n",
        "                        loss2 = criterion(aux_outputs, labels)\n",
        "                        loss = loss1 + 0.4 * loss2  # Usamos la salida auxiliar con menor peso\n",
        "                    else:\n",
        "                        # En validación, solo hay una salida\n",
        "                        outputs = model(inputs)\n",
        "                        loss = criterion(outputs, labels)\n",
        "\n",
        "                    _, preds = torch.max(outputs, 1)\n",
        "\n",
        "                    if phase == 'train':\n",
        "                        loss.backward()\n",
        "                        optimizer.step()\n",
        "\n",
        "                running_loss += loss.item() * inputs.size(0)\n",
        "                running_corrects += torch.sum(preds == labels.data)\n",
        "\n",
        "            if phase == 'train':\n",
        "                scheduler.step()\n",
        "\n",
        "            epoch_loss = running_loss / dataset_sizes[phase]\n",
        "            epoch_acc = running_corrects.double() / dataset_sizes[phase]\n",
        "\n",
        "            print(f'{phase} Loss: {epoch_loss:.4f} Acc: {epoch_acc:.4f}')\n",
        "\n",
        "            if phase == 'val' and epoch_acc > best_acc:\n",
        "                best_acc = epoch_acc\n",
        "                best_model_wts = copy.deepcopy(model.state_dict())\n",
        "\n",
        "        print()\n",
        "\n",
        "    time_elapsed = time.time() - since\n",
        "    print(f'Training complete in {time_elapsed // 60:.0f}m {time_elapsed % 60:.0f}s')\n",
        "    print(f'Best val Acc: {best_acc:.4f}')\n",
        "\n",
        "    model.load_state_dict(best_model_wts)\n",
        "    return model\n",
        "\n"
      ],
      "metadata": {
        "id": "fZQHL8wzyJyz"
      },
      "execution_count": 23,
      "outputs": []
    },
    {
      "cell_type": "markdown",
      "source": [
        "## Entrenar los Modelos\n",
        "\n",
        "Se entrenan los 3 modelos cada uno en 10 epocas mosntrando el train loss , validation loss y acurracy en cada epoca."
      ],
      "metadata": {
        "id": "gT1gqVNlF7yO"
      }
    },
    {
      "cell_type": "code",
      "source": [
        "# Entrenar VGG16 (224x224 imágenes)\n",
        "model_vgg16 = train_model(model_vgg16, criterion, optimizer_vgg16, exp_lr_scheduler_vgg16, num_epochs=10, dataloaders=dataloaders, dataset_sizes=dataset_sizes)\n",
        "\n",
        "# Entrenar ResNet50 (224x224 imágenes)\n",
        "model_resnet50 = train_model(model_resnet50, criterion, optimizer_resnet50, exp_lr_scheduler_resnet50, num_epochs=10, dataloaders=dataloaders, dataset_sizes=dataset_sizes)\n",
        "\n",
        "# Entrenar InceptionV3 (299x299 imágenes)\n",
        "model_inception = train_model(model_inception, criterion, optimizer_inception, exp_lr_scheduler_inception, num_epochs=10, dataloaders=dataloaders_inception, dataset_sizes=dataset_sizes_inception)\n"
      ],
      "metadata": {
        "id": "CvYts3TAF64a",
        "colab": {
          "base_uri": "https://localhost:8080/"
        },
        "outputId": "0bec2af0-7d85-48ba-9bef-d323a2358082"
      },
      "execution_count": 24,
      "outputs": [
        {
          "output_type": "stream",
          "name": "stdout",
          "text": [
            "Epoch 0/9\n",
            "----------\n",
            "train Loss: 0.7139 Acc: 0.7309\n",
            "val Loss: 0.5487 Acc: 0.8038\n",
            "\n",
            "Epoch 1/9\n",
            "----------\n",
            "train Loss: 0.5731 Acc: 0.7878\n",
            "val Loss: 0.5375 Acc: 0.8000\n",
            "\n",
            "Epoch 2/9\n",
            "----------\n",
            "train Loss: 0.5531 Acc: 0.8019\n",
            "val Loss: 0.4914 Acc: 0.8196\n",
            "\n",
            "Epoch 3/9\n",
            "----------\n",
            "train Loss: 0.5264 Acc: 0.8040\n",
            "val Loss: 0.4886 Acc: 0.8278\n",
            "\n",
            "Epoch 4/9\n",
            "----------\n",
            "train Loss: 0.5189 Acc: 0.8097\n",
            "val Loss: 0.4899 Acc: 0.8299\n",
            "\n",
            "Epoch 5/9\n",
            "----------\n",
            "train Loss: 0.5038 Acc: 0.8180\n",
            "val Loss: 0.4777 Acc: 0.8299\n",
            "\n",
            "Epoch 6/9\n",
            "----------\n",
            "train Loss: 0.4967 Acc: 0.8208\n",
            "val Loss: 0.5220 Acc: 0.8168\n",
            "\n",
            "Epoch 7/9\n",
            "----------\n",
            "train Loss: 0.4599 Acc: 0.8315\n",
            "val Loss: 0.4634 Acc: 0.8395\n",
            "\n",
            "Epoch 8/9\n",
            "----------\n",
            "train Loss: 0.4332 Acc: 0.8455\n",
            "val Loss: 0.4612 Acc: 0.8392\n",
            "\n",
            "Epoch 9/9\n",
            "----------\n",
            "train Loss: 0.4396 Acc: 0.8377\n",
            "val Loss: 0.4632 Acc: 0.8371\n",
            "\n",
            "Training complete in 11m 18s\n",
            "Best val Acc: 0.8395\n",
            "Epoch 0/9\n",
            "----------\n",
            "train Loss: 0.7301 Acc: 0.7946\n",
            "val Loss: 0.4710 Acc: 0.8814\n",
            "\n",
            "Epoch 1/9\n",
            "----------\n",
            "train Loss: 0.3899 Acc: 0.8844\n",
            "val Loss: 0.3593 Acc: 0.8979\n",
            "\n",
            "Epoch 2/9\n",
            "----------\n",
            "train Loss: 0.3169 Acc: 0.9052\n",
            "val Loss: 0.3221 Acc: 0.9007\n",
            "\n",
            "Epoch 3/9\n",
            "----------\n",
            "train Loss: 0.2726 Acc: 0.9194\n",
            "val Loss: 0.3104 Acc: 0.9027\n",
            "\n",
            "Epoch 4/9\n",
            "----------\n",
            "train Loss: 0.2481 Acc: 0.9271\n",
            "val Loss: 0.2943 Acc: 0.9048\n",
            "\n",
            "Epoch 5/9\n",
            "----------\n",
            "train Loss: 0.2254 Acc: 0.9343\n",
            "val Loss: 0.2867 Acc: 0.9079\n",
            "\n",
            "Epoch 6/9\n",
            "----------\n",
            "train Loss: 0.1998 Acc: 0.9399\n",
            "val Loss: 0.2785 Acc: 0.9113\n",
            "\n",
            "Epoch 7/9\n",
            "----------\n",
            "train Loss: 0.1831 Acc: 0.9458\n",
            "val Loss: 0.2683 Acc: 0.9162\n",
            "\n",
            "Epoch 8/9\n",
            "----------\n",
            "train Loss: 0.1846 Acc: 0.9443\n",
            "val Loss: 0.2766 Acc: 0.9124\n",
            "\n",
            "Epoch 9/9\n",
            "----------\n",
            "train Loss: 0.1793 Acc: 0.9462\n",
            "val Loss: 0.2680 Acc: 0.9158\n",
            "\n",
            "Training complete in 7m 59s\n",
            "Best val Acc: 0.9162\n",
            "Epoch 0/9\n",
            "----------\n",
            "train Loss: 4.3555 Acc: 0.6923\n",
            "val Loss: 0.5901 Acc: 0.8137\n",
            "\n",
            "Epoch 1/9\n",
            "----------\n",
            "train Loss: 4.0733 Acc: 0.7814\n",
            "val Loss: 0.5028 Acc: 0.8361\n",
            "\n",
            "Epoch 2/9\n",
            "----------\n",
            "train Loss: 4.0126 Acc: 0.8050\n",
            "val Loss: 0.4785 Acc: 0.8347\n",
            "\n",
            "Epoch 3/9\n",
            "----------\n",
            "train Loss: 3.9951 Acc: 0.8050\n",
            "val Loss: 0.4673 Acc: 0.8347\n",
            "\n",
            "Epoch 4/9\n",
            "----------\n",
            "train Loss: 3.9946 Acc: 0.8044\n",
            "val Loss: 0.4571 Acc: 0.8375\n",
            "\n",
            "Epoch 5/9\n",
            "----------\n",
            "train Loss: 3.9762 Acc: 0.8068\n",
            "val Loss: 0.4401 Acc: 0.8433\n",
            "\n",
            "Epoch 6/9\n",
            "----------\n",
            "train Loss: 3.9545 Acc: 0.8206\n",
            "val Loss: 0.4683 Acc: 0.8326\n",
            "\n",
            "Epoch 7/9\n",
            "----------\n",
            "train Loss: 3.9344 Acc: 0.8258\n",
            "val Loss: 0.4193 Acc: 0.8457\n",
            "\n",
            "Epoch 8/9\n",
            "----------\n",
            "train Loss: 3.9429 Acc: 0.8208\n",
            "val Loss: 0.4232 Acc: 0.8502\n",
            "\n",
            "Epoch 9/9\n",
            "----------\n",
            "train Loss: 3.9283 Acc: 0.8272\n",
            "val Loss: 0.4177 Acc: 0.8467\n",
            "\n",
            "Training complete in 12m 16s\n",
            "Best val Acc: 0.8502\n"
          ]
        }
      ]
    },
    {
      "cell_type": "markdown",
      "source": [
        "## Evaluación del Modelo con Métricas (Confusión, Precision, Recall, F1-score)\n",
        "**Evaluamos el modelo usando accuracy, precision, recall, y F1-score**, Estas métricas nos permiten tener una mejor visión del rendimiento del modelo en un dataset desbalanceado"
      ],
      "metadata": {
        "id": "S-MrAn8rZQMe"
      }
    },
    {
      "cell_type": "code",
      "source": [
        "# Obtener los nombres de las clases (esto es importante para etiquetar la matriz de confusión)\n",
        "class_names = full_dataset.classes\n"
      ],
      "metadata": {
        "id": "LMpT5TLOiUnx"
      },
      "execution_count": 25,
      "outputs": []
    },
    {
      "cell_type": "code",
      "source": [
        "def evaluate_model(model, dataloader):\n",
        "    model.eval()  # Cambiar el modelo al modo evaluación\n",
        "    y_true = []\n",
        "    y_pred = []\n",
        "\n",
        "    # Desactivar gradientes para la evaluación\n",
        "    with torch.no_grad():\n",
        "        for inputs, labels in dataloader:\n",
        "            inputs, labels = inputs.to(device), labels.to(device)\n",
        "            outputs = model(inputs)\n",
        "            _, preds = torch.max(outputs, 1)\n",
        "            y_true.extend(labels.cpu().numpy())\n",
        "            y_pred.extend(preds.cpu().numpy())\n",
        "\n",
        "    # Obtener los nombres de las clases\n",
        "    class_names = full_dataset.classes\n",
        "\n",
        "    # Generar el reporte de clasificación\n",
        "    print(\"Classification Report:\")\n",
        "    print(classification_report(y_true, y_pred, target_names=class_names))\n",
        "\n",
        "    # Calcular la matriz de confusión\n",
        "    cm = confusion_matrix(y_true, y_pred, labels=[0, 1, 2, 3, 4])  # Etiquetas según tus clases\n",
        "    plt.figure(figsize=(10, 8))\n",
        "    sns.heatmap(cm, annot=True, fmt=\"d\", cmap=\"Blues\", xticklabels=class_names, yticklabels=class_names)\n",
        "    plt.xlabel('Predicted')\n",
        "    plt.ylabel('True')\n",
        "    plt.title('Confusion Matrix')\n",
        "    plt.show()\n",
        "\n",
        "    # Calcular métricas adicionales\n",
        "    accuracy = accuracy_score(y_true, y_pred)\n",
        "    f1 = f1_score(y_true, y_pred, average='weighted')\n",
        "    precision = precision_score(y_true, y_pred, average='weighted')\n",
        "    recall = recall_score(y_true, y_pred, average='weighted')\n",
        "\n",
        "    # Mostrar los resultados\n",
        "    print(f\"Accuracy: {accuracy:.4f}\")\n",
        "    print(f\"F1 Score (weighted): {f1:.4f}\")\n",
        "    print(f\"Precision (weighted): {precision:.4f}\")\n",
        "    print(f\"Recall (weighted): {recall:.4f}\")\n",
        "\n",
        "    return accuracy, f1, precision, recall\n",
        "\n"
      ],
      "metadata": {
        "id": "hJiV8DmaGAK3"
      },
      "execution_count": 26,
      "outputs": []
    },
    {
      "cell_type": "markdown",
      "source": [
        "## Evaluar los Modelos"
      ],
      "metadata": {
        "id": "xt6JWdKJGKEZ"
      }
    },
    {
      "cell_type": "code",
      "source": [
        "# Evaluar VGG16\n",
        "print(\"Evaluating VGG16\")\n",
        "evaluate_model(model_vgg16, dataloaders['val'])\n",
        "\n",
        "# Evaluar ResNet50\n",
        "print(\"Evaluating ResNet50\")\n",
        "evaluate_model(model_resnet50, dataloaders['val'])\n",
        "\n",
        "# Evaluar InceptionV3\n",
        "print(\"Evaluating InceptionV3\")\n",
        "evaluate_model(model_inception, dataloaders['val'])\n"
      ],
      "metadata": {
        "id": "YGLdJlhNGLXE",
        "colab": {
          "base_uri": "https://localhost:8080/",
          "height": 1000
        },
        "outputId": "497e5ef3-85c8-4c9a-891a-55ba48decdc5"
      },
      "execution_count": 27,
      "outputs": [
        {
          "output_type": "stream",
          "name": "stdout",
          "text": [
            "Evaluating VGG16\n",
            "Classification Report:\n",
            "              precision    recall  f1-score   support\n",
            "\n",
            "       Apple       0.76      0.75      0.75       547\n",
            "      Banana       0.89      0.87      0.88       620\n",
            "       Grape       0.81      0.84      0.82       561\n",
            "       Mango       0.85      0.82      0.83       605\n",
            "  Strawberry       0.88      0.91      0.90       577\n",
            "\n",
            "    accuracy                           0.84      2910\n",
            "   macro avg       0.84      0.84      0.84      2910\n",
            "weighted avg       0.84      0.84      0.84      2910\n",
            "\n"
          ]
        },
        {
          "output_type": "display_data",
          "data": {
            "text/plain": [
              "<Figure size 1000x800 with 2 Axes>"
            ],
            "image/png": "[encoded data removed]"
          },
          "metadata": {}
        },
        {
          "output_type": "stream",
          "name": "stdout",
          "text": [
            "Accuracy: 0.8395\n",
            "F1 Score (weighted): 0.8393\n",
            "Precision (weighted): 0.8395\n",
            "Recall (weighted): 0.8395\n",
            "Evaluating ResNet50\n",
            "Classification Report:\n",
            "              precision    recall  f1-score   support\n",
            "\n",
            "       Apple       0.87      0.86      0.86       547\n",
            "      Banana       0.94      0.95      0.94       620\n",
            "       Grape       0.91      0.92      0.91       561\n",
            "       Mango       0.91      0.89      0.90       605\n",
            "  Strawberry       0.95      0.97      0.96       577\n",
            "\n",
            "    accuracy                           0.92      2910\n",
            "   macro avg       0.92      0.92      0.92      2910\n",
            "weighted avg       0.92      0.92      0.92      2910\n",
            "\n"
          ]
        },
        {
          "output_type": "display_data",
          "data": {
            "text/plain": [
              "<Figure size 1000x800 with 2 Axes>"
            ],
            "image/png": "[encoded data removed]"
          },
          "metadata": {}
        },
        {
          "output_type": "stream",
          "name": "stdout",
          "text": [
            "Accuracy: 0.9162\n",
            "F1 Score (weighted): 0.9159\n",
            "Precision (weighted): 0.9158\n",
            "Recall (weighted): 0.9162\n",
            "Evaluating InceptionV3\n",
            "Classification Report:\n",
            "              precision    recall  f1-score   support\n",
            "\n",
            "       Apple       0.67      0.83      0.74       547\n",
            "      Banana       0.89      0.88      0.88       620\n",
            "       Grape       0.82      0.86      0.84       561\n",
            "       Mango       0.89      0.67      0.76       605\n",
            "  Strawberry       0.89      0.88      0.89       577\n",
            "\n",
            "    accuracy                           0.82      2910\n",
            "   macro avg       0.83      0.82      0.82      2910\n",
            "weighted avg       0.83      0.82      0.82      2910\n",
            "\n"
          ]
        },
        {
          "output_type": "display_data",
          "data": {
            "text/plain": [
              "<Figure size 1000x800 with 2 Axes>"
            ],
            "image/png": "[encoded data removed]"
          },
          "metadata": {}
        },
        {
          "output_type": "stream",
          "name": "stdout",
          "text": [
            "Accuracy: 0.8234\n",
            "F1 Score (weighted): 0.8237\n",
            "Precision (weighted): 0.8341\n",
            "Recall (weighted): 0.8234\n"
          ]
        },
        {
          "output_type": "execute_result",
          "data": {
            "text/plain": [
              "(0.8233676975945017,\n",
              " 0.8236955490486875,\n",
              " 0.8341211180469628,\n",
              " 0.8233676975945017)"
            ]
          },
          "metadata": {},
          "execution_count": 27
        }
      ]
    }
  ]
}